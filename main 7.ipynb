{
 "cells": [
  {
   "cell_type": "code",
   "execution_count": 54,
   "id": "b1a89cf5-e206-4cee-9a2b-22428250680e",
   "metadata": {},
   "outputs": [],
   "source": [
    "import requests\n",
    "import pandas as pd\n",
    "from serpapi import GoogleScholarSearch\n",
    "import re\n",
    "import random\n",
    "import numpy as np\n",
    "import networkx as nx\n",
    "import matplotlib.pyplot as plt\n",
    "from IPython.display import display\n",
    "import pickle\n",
    "from pyvis.network import Network\n",
    "import json\n",
    "\n",
    "\n",
    "# 7. Produrre una visualizzazione interattiva con PyVis dei due grafi con colorazioni di\n",
    "# nodi ed archi a piacimento. Salvare i due output in formato HTML nella cartella\n",
    "# /visualizations .\n",
    "\n",
    "# read_gpickle()\n",
    "with open(\"graphs/coauthorship_graph.pkl\", 'rb') as f:  # notice the r instead of w\n",
    "    coauthorship_graph = pickle.load(f)\n",
    "\n",
    "# read_gpickle()\n",
    "with open(\"graphs/extended_coauthorship_graph.pkl\", 'rb') as f:  # notice the r instead of w\n",
    "    extended_coauthorship_graph = pickle.load(f)\n",
    "\n",
    "nt = Network('1000px', '1000px')\n",
    "#nt.barnes_hut()\n",
    "nt.from_nx(coauthorship_graph)\n",
    "nt.save_graph(\"visualizations/interactive_first_graphs.html\")\n",
    "\n",
    "#nt.show(\"ex.html\", notebook=False)\n",
    "\n",
    "################################################################\n",
    "\n",
    "\n",
    "#nt.barnes_hut()\n",
    "\n",
    "nt.from_nx(extended_coauthorship_graph)\n",
    "\n",
    "#neighbor_map = nt.get_adj_list()\n",
    "#for node in nt.nodes:\n",
    "#    node[\"value\"] = len(neighbor_map[node[\"id\"]])\n",
    "    \n",
    "nt.save_graph(\"visualizations/interactive_extended_graphs.html\")\n",
    "#nt.show()"
   ]
  },
  {
   "cell_type": "code",
   "execution_count": null,
   "id": "1a48fc94-2b6a-4fde-8fdd-c2460df36fd7",
   "metadata": {},
   "outputs": [],
   "source": []
  }
 ],
 "metadata": {
  "kernelspec": {
   "display_name": "Python 3 (ipykernel)",
   "language": "python",
   "name": "python3"
  },
  "language_info": {
   "codemirror_mode": {
    "name": "ipython",
    "version": 3
   },
   "file_extension": ".py",
   "mimetype": "text/x-python",
   "name": "python",
   "nbconvert_exporter": "python",
   "pygments_lexer": "ipython3",
   "version": "3.11.2"
  }
 },
 "nbformat": 4,
 "nbformat_minor": 5
}
