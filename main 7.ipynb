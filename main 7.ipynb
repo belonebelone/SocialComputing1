{
 "cells": [
  {
   "cell_type": "code",
   "execution_count": 1,
   "id": "b1a89cf5-e206-4cee-9a2b-22428250680e",
   "metadata": {},
   "outputs": [
    {
     "name": "stdout",
     "output_type": "stream",
     "text": [
      "visualizations/interactive_first_graphs.html\n"
     ]
    },
    {
     "ename": "TypeError",
     "evalue": "'barnesHut' object is not callable",
     "output_type": "error",
     "traceback": [
      "\u001b[1;31m---------------------------------------------------------------------------\u001b[0m",
      "\u001b[1;31mTypeError\u001b[0m                                 Traceback (most recent call last)",
      "Cell \u001b[1;32mIn[1], line 43\u001b[0m\n\u001b[0;32m     39\u001b[0m     node[\u001b[38;5;124m\"\u001b[39m\u001b[38;5;124mvalue\u001b[39m\u001b[38;5;124m\"\u001b[39m] \u001b[38;5;241m=\u001b[39m \u001b[38;5;28mlen\u001b[39m(neighbor_map[node[\u001b[38;5;124m\"\u001b[39m\u001b[38;5;124mid\u001b[39m\u001b[38;5;124m\"\u001b[39m]])\n\u001b[0;32m     40\u001b[0m nt\u001b[38;5;241m.\u001b[39mshow(\u001b[38;5;124m\"\u001b[39m\u001b[38;5;124mvisualizations/interactive_first_graphs.html\u001b[39m\u001b[38;5;124m\"\u001b[39m, notebook\u001b[38;5;241m=\u001b[39m\u001b[38;5;28;01mFalse\u001b[39;00m)\n\u001b[1;32m---> 43\u001b[0m \u001b[43mnt\u001b[49m\u001b[38;5;241;43m.\u001b[39;49m\u001b[43mbarnes_hut\u001b[49m\u001b[43m(\u001b[49m\u001b[43m)\u001b[49m\n\u001b[0;32m     44\u001b[0m nt\u001b[38;5;241m.\u001b[39mfrom_nx(extended_coauthorship_graph)\n\u001b[0;32m     45\u001b[0m neighbor_map \u001b[38;5;241m=\u001b[39m nt\u001b[38;5;241m.\u001b[39mget_adj_list()\n",
      "File \u001b[1;32m~\\AppData\\Local\\Programs\\Python\\Python311\\Lib\\site-packages\\pyvis\\network.py:782\u001b[0m, in \u001b[0;36mNetwork.barnes_hut\u001b[1;34m(self, gravity, central_gravity, spring_length, spring_strength, damping, overlap)\u001b[0m\n\u001b[0;32m    748\u001b[0m \u001b[38;5;28;01mdef\u001b[39;00m \u001b[38;5;21mbarnes_hut\u001b[39m(\n\u001b[0;32m    749\u001b[0m         \u001b[38;5;28mself\u001b[39m,\n\u001b[0;32m    750\u001b[0m         gravity\u001b[38;5;241m=\u001b[39m\u001b[38;5;241m-\u001b[39m\u001b[38;5;241m80000\u001b[39m,\n\u001b[1;32m   (...)\u001b[0m\n\u001b[0;32m    755\u001b[0m         overlap\u001b[38;5;241m=\u001b[39m\u001b[38;5;241m0\u001b[39m\n\u001b[0;32m    756\u001b[0m ):\n\u001b[0;32m    757\u001b[0m \u001b[38;5;250m    \u001b[39m\u001b[38;5;124;03m\"\"\"\u001b[39;00m\n\u001b[0;32m    758\u001b[0m \u001b[38;5;124;03m    BarnesHut is a quadtree based gravity model. It is the fastest. default\u001b[39;00m\n\u001b[0;32m    759\u001b[0m \u001b[38;5;124;03m    and recommended solver for non-hierarchical layouts.\u001b[39;00m\n\u001b[1;32m   (...)\u001b[0m\n\u001b[0;32m    780\u001b[0m \u001b[38;5;124;03m    :type overlap: float\u001b[39;00m\n\u001b[0;32m    781\u001b[0m \u001b[38;5;124;03m    \"\"\"\u001b[39;00m\n\u001b[1;32m--> 782\u001b[0m     \u001b[38;5;28;43mself\u001b[39;49m\u001b[38;5;241;43m.\u001b[39;49m\u001b[43moptions\u001b[49m\u001b[38;5;241;43m.\u001b[39;49m\u001b[43mphysics\u001b[49m\u001b[38;5;241;43m.\u001b[39;49m\u001b[43muse_barnes_hut\u001b[49m\u001b[43m(\u001b[49m\u001b[38;5;28;43mlocals\u001b[39;49m\u001b[43m(\u001b[49m\u001b[43m)\u001b[49m\u001b[43m)\u001b[49m\n",
      "File \u001b[1;32m~\\AppData\\Local\\Programs\\Python\\Python311\\Lib\\site-packages\\pyvis\\physics.py:96\u001b[0m, in \u001b[0;36mPhysics.use_barnes_hut\u001b[1;34m(self, params)\u001b[0m\n\u001b[0;32m     95\u001b[0m \u001b[38;5;28;01mdef\u001b[39;00m \u001b[38;5;21muse_barnes_hut\u001b[39m(\u001b[38;5;28mself\u001b[39m, params):\n\u001b[1;32m---> 96\u001b[0m     \u001b[38;5;28mself\u001b[39m\u001b[38;5;241m.\u001b[39mbarnesHut \u001b[38;5;241m=\u001b[39m \u001b[38;5;28;43mself\u001b[39;49m\u001b[38;5;241;43m.\u001b[39;49m\u001b[43mbarnesHut\u001b[49m\u001b[43m(\u001b[49m\u001b[43mparams\u001b[49m\u001b[43m)\u001b[49m\n",
      "\u001b[1;31mTypeError\u001b[0m: 'barnesHut' object is not callable"
     ]
    }
   ],
   "source": [
    "import requests\n",
    "import pandas as pd\n",
    "from serpapi import GoogleScholarSearch\n",
    "import re\n",
    "import random\n",
    "import numpy as np\n",
    "import networkx as nx\n",
    "import matplotlib.pyplot as plt\n",
    "from IPython.display import display\n",
    "import pickle\n",
    "from pyvis.network import Network\n",
    "import json\n",
    "\n",
    "\n",
    "# 7. Produrre una visualizzazione interattiva con PyVis dei due grafi con colorazioni di\n",
    "# nodi ed archi a piacimento. Salvare i due output in formato HTML nella cartella\n",
    "# /visualizations .\n",
    "\n",
    "# read_gpickle()\n",
    "with open(\"graphs/coauthorship_graph.pkl\", 'rb') as f:  # notice the r instead of w\n",
    "    coauthorship_graph = pickle.load(f)\n",
    "\n",
    "# read_gpickle()\n",
    "with open(\"graphs/extended_coauthorship_graph.pkl\", 'rb') as f:  # notice the r instead of w\n",
    "    extended_coauthorship_graph = pickle.load(f)\n",
    "\n",
    "\n",
    "nt = Network(\n",
    "    height=\"100%\",\n",
    "    width=\"100%\",\n",
    "    bgcolor=\"#222222\",\n",
    "    font_color=\"white\",\n",
    "    heading=\"Grafo\"\n",
    ")\n",
    "\n",
    "#nt.barnes_hut()\n",
    "\n",
    "nt.from_nx(coauthorship_graph)\n",
    "\n",
    "#neighbor_map = nt.get_adj_list()\n",
    "#for node in nt.nodes:\n",
    "#    node[\"value\"] = len(neighbor_map[node[\"id\"]])\n",
    "\n",
    "\n",
    "nt.save_graph(\"visualizations/interactive_first_graphs.html\")\n",
    "nt.show()\n",
    "\n",
    "\n",
    "#nt.barnes_hut()\n",
    "\n",
    "nt.from_nx(extended_coauthorship_graph)\n",
    "\n",
    "#neighbor_map = nt.get_adj_list()\n",
    "#for node in nt.nodes:\n",
    "#    node[\"value\"] = len(neighbor_map[node[\"id\"]])\n",
    "    \n",
    "nt.save_graph(\"visualizations/interactive_extended_graphs.html\")\n",
    "nt.show()"
   ]
  },
  {
   "cell_type": "code",
   "execution_count": null,
   "id": "1a48fc94-2b6a-4fde-8fdd-c2460df36fd7",
   "metadata": {},
   "outputs": [],
   "source": []
  }
 ],
 "metadata": {
  "kernelspec": {
   "display_name": "Python 3 (ipykernel)",
   "language": "python",
   "name": "python3"
  },
  "language_info": {
   "codemirror_mode": {
    "name": "ipython",
    "version": 3
   },
   "file_extension": ".py",
   "mimetype": "text/x-python",
   "name": "python",
   "nbconvert_exporter": "python",
   "pygments_lexer": "ipython3",
   "version": "3.11.2"
  }
 },
 "nbformat": 4,
 "nbformat_minor": 5
}
